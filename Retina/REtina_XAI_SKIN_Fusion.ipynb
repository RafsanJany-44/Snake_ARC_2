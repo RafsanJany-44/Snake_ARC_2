{
 "cells": [
  {
   "cell_type": "code",
   "execution_count": 7,
   "metadata": {},
   "outputs": [
    {
     "name": "stdout",
     "output_type": "stream",
     "text": [
      "GPU is available\n",
      "PhysicalDevice(name='/physical_device:GPU:0', device_type='GPU')\n"
     ]
    }
   ],
   "source": [
    "import tensorflow as tf\n",
    "\n",
    "\n",
    "# Get list of available GPU devices\n",
    "gpu_devices = tf.config.list_physical_devices('GPU')\n",
    "\n",
    "if gpu_devices:\n",
    "    print(\"GPU is available\")\n",
    "    # Additional information about GPUs\n",
    "    for gpu in gpu_devices:\n",
    "        print(gpu)\n",
    "else:\n",
    "    print(\"GPU is not available\")"
   ]
  },
  {
   "cell_type": "code",
   "execution_count": 8,
   "metadata": {},
   "outputs": [],
   "source": [
    "\n",
    "import cv2\n",
    "import numpy as np\n",
    "import pandas as pd\n",
    "import matplotlib.pyplot as plt\n",
    "import seaborn as sns\n",
    "\n",
    "train = pd.read_csv(\"C:/Users/RAZER/Downloads/dataset/aptos/train.csv\")\n",
    "test = pd.read_csv(\"C:/Users/RAZER/Downloads/dataset/aptos/test.csv\")\n",
    "#submission= pd.read_csv('../input/aptos2019-blindness-detection/sample_submission.csv')"
   ]
  },
  {
   "cell_type": "code",
   "execution_count": 14,
   "metadata": {},
   "outputs": [
    {
     "name": "stdout",
     "output_type": "stream",
     "text": [
      "Found 2930 validated image filenames belonging to 5 classes.\n",
      "Found 732 validated image filenames belonging to 5 classes.\n",
      "Found 1928 validated image filenames.\n"
     ]
    }
   ],
   "source": [
    "from tensorflow.keras.preprocessing.image import ImageDataGenerator\n",
    "import tensorflow as tf\n",
    "from tensorflow.keras.callbacks import TensorBoard\n",
    "\n",
    "\n",
    "N_CLASSES = train['diagnosis'].nunique()\n",
    "N_CLASSES\n",
    "\n",
    "\n",
    "\n",
    "\n",
    "# Preprocecss data\n",
    "train[\"id_code\"] = train[\"id_code\"].apply(lambda x: x + \".png\")\n",
    "test[\"id_code\"] = test[\"id_code\"].apply(lambda x: x + \".png\")\n",
    "train['diagnosis'] = train['diagnosis'].astype('str')\n",
    "train.head()\n",
    "\n",
    "\n",
    "\n",
    "\n",
    "\n",
    "train_datagen=ImageDataGenerator(rescale=1./255, \n",
    "                                validation_split=0.2,\n",
    "                                horizontal_flip=True)\n",
    "\n",
    "\n",
    "train_generator=train_datagen.flow_from_dataframe(\n",
    "    dataframe=train,\n",
    "    directory=\"C:/Users/RAZER/Downloads/dataset/aptos/train_images/\",\n",
    "    x_col=\"id_code\",\n",
    "    y_col=\"diagnosis\",\n",
    "    batch_size=16,\n",
    "    class_mode=\"categorical\",\n",
    "    target_size=(224, 224),\n",
    "    subset='training')\n",
    "\n",
    "\n",
    "\n",
    "\n",
    "\n",
    "valid_generator=train_datagen.flow_from_dataframe(\n",
    "    dataframe=train,\n",
    "    directory=\"C:/Users/RAZER/Downloads/dataset/aptos/train_images/\",\n",
    "    x_col=\"id_code\",\n",
    "    y_col=\"diagnosis\",\n",
    "    batch_size=16,\n",
    "    class_mode=\"categorical\",    \n",
    "    target_size=(224, 224),\n",
    "    subset='validation')\n",
    "\n",
    "\n",
    "\n",
    "\n",
    "test_datagen = ImageDataGenerator(rescale=1./255)\n",
    "\n",
    "test_generator = test_datagen.flow_from_dataframe(  \n",
    "        dataframe=test,\n",
    "        directory = \"C:/Users/RAZER/Downloads/dataset/aptos/test_images/\",\n",
    "        x_col=\"id_code\",\n",
    "        target_size=(224, 224),\n",
    "        batch_size=16,\n",
    "        shuffle=False,\n",
    "        class_mode=None)"
   ]
  },
  {
   "cell_type": "code",
   "execution_count": 16,
   "metadata": {},
   "outputs": [],
   "source": [
    "import tensorflow as tf\n",
    "from tensorflow.keras.applications import ResNet50\n",
    "\n",
    "\n",
    "import tensorflow as tf\n",
    "from tensorflow.keras import layers, models"
   ]
  },
  {
   "cell_type": "code",
   "execution_count": 17,
   "metadata": {},
   "outputs": [],
   "source": [
    "from keras.models import load_model\n",
    "aptos_resnet_model = load_model(\"C:/Users/RAZER/Documents/Python Scripts/saved_models/retina/aptos_resnet.h5\")"
   ]
  },
  {
   "cell_type": "code",
   "execution_count": 18,
   "metadata": {},
   "outputs": [
    {
     "name": "stdout",
     "output_type": "stream",
     "text": [
      "184/184 [==============================] - 373s 2s/step - loss: 0.8132 - accuracy: 0.7249\n",
      "Train loss: 0.8131960034370422 Train accuracy: 0.7249146699905396\n",
      "121/121 [==============================] - 97s 791ms/step - loss: 0.0000e+00 - accuracy: 0.0000e+00\n",
      "Test loss: 0.0 Test accuracy: 0.0\n",
      "46/46 [==============================] - 108s 2s/step - loss: 0.8278 - accuracy: 0.7117\n",
      "Validation loss: 0.8277633190155029 Val accuracy: 0.7117486596107483\n"
     ]
    }
   ],
   "source": [
    "loss, accuracy = aptos_resnet_model.evaluate(train_generator)\n",
    "print(\"Train loss:\", loss, \"Train accuracy:\", accuracy)\n",
    "\n",
    "test_loss, test_accuracy = aptos_resnet_model.evaluate(test_generator)\n",
    "print(\"Test loss:\", test_loss, \"Test accuracy:\", test_accuracy)\n",
    "\n",
    "val_loss, val_accuracy = aptos_resnet_model.evaluate(valid_generator)\n",
    "print(\"Validation loss:\", val_loss, \"Val accuracy:\", val_accuracy)"
   ]
  },
  {
   "cell_type": "code",
   "execution_count": null,
   "metadata": {},
   "outputs": [],
   "source": []
  },
  {
   "cell_type": "code",
   "execution_count": null,
   "metadata": {},
   "outputs": [],
   "source": []
  },
  {
   "cell_type": "code",
   "execution_count": null,
   "metadata": {},
   "outputs": [],
   "source": []
  },
  {
   "cell_type": "code",
   "execution_count": null,
   "metadata": {},
   "outputs": [],
   "source": []
  },
  {
   "cell_type": "code",
   "execution_count": null,
   "metadata": {},
   "outputs": [],
   "source": []
  },
  {
   "cell_type": "code",
   "execution_count": null,
   "metadata": {},
   "outputs": [],
   "source": []
  }
 ],
 "metadata": {
  "kernelspec": {
   "display_name": "Viper",
   "language": "python",
   "name": "python3"
  },
  "language_info": {
   "codemirror_mode": {
    "name": "ipython",
    "version": 3
   },
   "file_extension": ".py",
   "mimetype": "text/x-python",
   "name": "python",
   "nbconvert_exporter": "python",
   "pygments_lexer": "ipython3",
   "version": "3.7.16"
  }
 },
 "nbformat": 4,
 "nbformat_minor": 2
}
